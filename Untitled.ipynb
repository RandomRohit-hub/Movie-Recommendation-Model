{
 "cells": [
  {
   "cell_type": "code",
   "execution_count": 2,
   "id": "8d76d28f-fc7a-4191-807f-e5ee04783ad4",
   "metadata": {},
   "outputs": [],
   "source": [
    "import numpy as np\n",
    "import pandas as pd\n",
    "import difflib\n",
    "from sklearn.feature_extraction.text import TfidfVectorizer\n",
    "from sklearn.metrics.pairwise import cosine_similarity"
   ]
  },
  {
   "cell_type": "code",
   "execution_count": 9,
   "id": "2d93b740-276b-44b9-b423-86d4f8101761",
   "metadata": {},
   "outputs": [],
   "source": [
    "# loading the data from the csv file to apandas dataframe\n",
    "movies_data = pd.read_csv('movie.csv.csv')"
   ]
  },
  {
   "cell_type": "code",
   "execution_count": null,
   "id": "df9cb616-4469-41a8-839d-de8ada24c158",
   "metadata": {},
   "outputs": [],
   "source": []
  }
 ],
 "metadata": {
  "kernelspec": {
   "display_name": "Python 3 (ipykernel)",
   "language": "python",
   "name": "python3"
  },
  "language_info": {
   "codemirror_mode": {
    "name": "ipython",
    "version": 3
   },
   "file_extension": ".py",
   "mimetype": "text/x-python",
   "name": "python",
   "nbconvert_exporter": "python",
   "pygments_lexer": "ipython3",
   "version": "3.12.3"
  }
 },
 "nbformat": 4,
 "nbformat_minor": 5
}
